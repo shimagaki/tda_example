{
 "cells": [
  {
   "cell_type": "code",
   "execution_count": 1,
   "metadata": {
    "collapsed": true
   },
   "outputs": [],
   "source": [
    "import numpy as np"
   ]
  },
  {
   "cell_type": "code",
   "execution_count": 2,
   "metadata": {
    "collapsed": false
   },
   "outputs": [],
   "source": [
    "import plotly.plotly as py\n",
    "from plotly.graph_objs import *\n",
    "from plotly import tools as tls"
   ]
  },
  {
   "cell_type": "code",
   "execution_count": 3,
   "metadata": {
    "collapsed": true
   },
   "outputs": [],
   "source": [
    "from scipy.spatial import Delaunay"
   ]
  },
  {
   "cell_type": "code",
   "execution_count": 4,
   "metadata": {
    "collapsed": true
   },
   "outputs": [],
   "source": [
    "def sq_norm(v): #squared norm \n",
    "    return np.linalg.norm(v)**2"
   ]
  },
  {
   "cell_type": "markdown",
   "metadata": {},
   "source": [
    "Compute the circumcenter and circumradius of a triangle (see their definitions [here](https://en.wikipedia.org/wiki/Circumscribed_circle#Circumcircle_equations)):"
   ]
  },
  {
   "cell_type": "code",
   "execution_count": 5,
   "metadata": {
    "collapsed": true
   },
   "outputs": [],
   "source": [
    "def circumcircle(points,simplex):\n",
    "    A=[points[simplex[k]] for k in range(3)]\n",
    "    M=[[1.0]*4]\n",
    "    M+=[[sq_norm(A[k]), A[k][0], A[k][1], 1.0 ] for k in range(3)] \n",
    "    M=np.asarray(M, dtype=np.float32) \n",
    "    S=np.array([0.5*np.linalg.det(M[1:,[0,2,3]]), -0.5*np.linalg.det(M[1:,[0,1,3]])]) \n",
    "    a=np.linalg.det(M[1:, 1:]) \n",
    "    b=np.linalg.det(M[1:, [0,1,2]]) \n",
    "    return S/a,  np.sqrt(b/a+sq_norm(S)/a**2) #center=S/a, radius=np.sqrt(b/a+sq_norm(S)/a**2)"
   ]
  },
  {
   "cell_type": "markdown",
   "metadata": {},
   "source": [
    "Filter the Delaunay triangulation to get the $\\alpha$-complex:"
   ]
  },
  {
   "cell_type": "code",
   "execution_count": 6,
   "metadata": {
    "collapsed": true
   },
   "outputs": [],
   "source": [
    "def get_alpha_complex(alpha, points, simplexes):\n",
    "    #alpha is the parameter for the alpha shape\n",
    "    #points are given data points \n",
    "    #simplexes is the  list of indices in the array of points \n",
    "    #that define 2-simplexes in the Delaunay triangulation\n",
    "    \n",
    "    return filter(lambda simplex: circumcircle(points,simplex)[1]<alpha, simplexes)"
   ]
  },
  {
   "cell_type": "markdown",
   "metadata": {},
   "source": [
    "Get data for Plotly plot of a subcomplex of the Delaunay triangulation:"
   ]
  },
  {
   "cell_type": "code",
   "execution_count": 7,
   "metadata": {
    "collapsed": true
   },
   "outputs": [],
   "source": [
    "def Plotly_data(points, complex_s):\n",
    "    #points are the given data points, \n",
    "    #complex_s is the list of indices in the array of points defining 2-simplexes(triangles) \n",
    "    #in the simplicial complex to be plotted\n",
    "    X=[]\n",
    "    Y=[]\n",
    "    for s in complex_s:\n",
    "        X+=[points[s[k]][0] for k in [0,1,2,0]]+[None]\n",
    "        Y+=[points[s[k]][1] for k in [0,1,2,0]]+[None]\n",
    "    return X,Y    "
   ]
  },
  {
   "cell_type": "code",
   "execution_count": 12,
   "metadata": {
    "collapsed": true
   },
   "outputs": [],
   "source": [
    "colors=['#C0223B', '#404ca0', 'rgba(173,216,230, 0.5)']# colors for vertices, edges and 2-simplexes"
   ]
  },
  {
   "cell_type": "code",
   "execution_count": 13,
   "metadata": {
    "collapsed": false
   },
   "outputs": [],
   "source": [
    "def make_trace(x, y,  point_color=colors[0], line_color=colors[1]):# define the trace\n",
    "                                                                   #for an alpha complex\n",
    "    return Scatter(mode='markers+lines', #set vertices and \n",
    "                                         #edges of the alpha-complex\n",
    "                   name='',\n",
    "                   x=x,\n",
    "                   y=y,\n",
    "                   marker=Marker(size=6.5, color=point_color),\n",
    "                   line=Line(width=1.25, color=line_color),\n",
    "                  )"
   ]
  },
  {
   "cell_type": "code",
   "execution_count": 14,
   "metadata": {
    "collapsed": true
   },
   "outputs": [],
   "source": [
    "def make_XAxis(axis_style):\n",
    "    return XAxis(axis_style)\n",
    "    \n",
    "def make_YAxis(axis_style):\n",
    "    return YAxis(axis_style)  "
   ]
  },
  {
   "cell_type": "code",
   "execution_count": 15,
   "metadata": {
    "collapsed": false
   },
   "outputs": [],
   "source": [
    "pts=np.loadtxt('data-ex-2d.txt')\n",
    "tri = Delaunay(pts)"
   ]
  },
  {
   "cell_type": "markdown",
   "metadata": {},
   "source": [
    "Subplots (https://plot.ly/python/subplots/):"
   ]
  },
  {
   "cell_type": "code",
   "execution_count": 16,
   "metadata": {
    "collapsed": false
   },
   "outputs": [
    {
     "name": "stdout",
     "output_type": "stream",
     "text": [
      "This is the format of your plot grid:\n",
      "[ (1,1) x1,y1 ]  [ (1,2) x2,y2 ]\n",
      "[ (2,1) x3,y3 ]  [ (2,2) x4,y4 ]\n",
      "[ (3,1) x5,y5 ]  [ (3,2) x6,y6 ]\n",
      "\n"
     ]
    }
   ],
   "source": [
    "figure = tls.make_subplots(rows=3, cols=2,\n",
    "                           subplot_titles=('Delaunay triangulation', 'Alpha shape, alpha=0.10', 'Alpha shape, alpha=0.12', 'Alpha shape, alpha=0.14', 'Alpha shape, alpha=0.16', 'Alpha shape, alpha=0.18'),\n",
    "                           horizontal_spacing=0.1, \n",
    "                          )"
   ]
  },
  {
   "cell_type": "code",
   "execution_count": 17,
   "metadata": {
    "collapsed": false
   },
   "outputs": [],
   "source": [
    "pl_width=800\n",
    "pl_height=1000\n",
    "title = 'Delaunay triangulation and Alpha Complex/Shape for a Set of 2D Points'\n",
    "\n",
    "figure['layout'].update(title=title,                                 \n",
    "                        font= Font(family=\"Open Sans, sans-serif\"),\n",
    "                        showlegend=False,     \n",
    "                        hovermode='closest',  \n",
    "                        autosize=False,       \n",
    "                        width=pl_width,       \n",
    "                        height=pl_height,\n",
    "                        margin=Margin(\n",
    "                            l=65,\n",
    "                            r=65,\n",
    "                            b=85,\n",
    "                            t=120\n",
    "                            ),           \n",
    "                       shapes=[]\n",
    "                       )"
   ]
  },
  {
   "cell_type": "markdown",
   "metadata": {},
   "source": [
    "Set axis style:"
   ]
  },
  {
   "cell_type": "code",
   "execution_count": 18,
   "metadata": {
    "collapsed": true
   },
   "outputs": [],
   "source": [
    "axis_style = dict(showline=True, \n",
    "                  mirror=True,\n",
    "                  zeroline=False,\n",
    "                  showgrid=False,\n",
    "                  showticklabels=True,\n",
    "                  range=[-0.1,1.1],\n",
    "                  tickvals=[0, 0.2, 0.4, 0.6, 0.8, 1.0],\n",
    "                  ticklen=5\n",
    "                 )"
   ]
  },
  {
   "cell_type": "code",
   "execution_count": 19,
   "metadata": {
    "collapsed": true
   },
   "outputs": [],
   "source": [
    "for s in range(1,7): # from 1 to 'num of figures + 1'\n",
    "    figure['layout'].update({'xaxis{}'.format(s): make_XAxis(axis_style)})# set xaxis style\n",
    "    figure['layout'].update({'yaxis{}'.format(s): make_YAxis(axis_style)})# set yaxis style"
   ]
  },
  {
   "cell_type": "markdown",
   "metadata": {},
   "source": [
    "Calcurate $\\alpha$-complexes:"
   ]
  },
  {
   "cell_type": "code",
   "execution_count": 20,
   "metadata": {
    "collapsed": false
   },
   "outputs": [],
   "source": [
    "alpha_complex1=get_alpha_complex(0.10, pts, tri.simplices)\n",
    "alpha_complex2=get_alpha_complex(0.12, pts, tri.simplices)\n",
    "alpha_complex3=get_alpha_complex(0.14, pts, tri.simplices)\n",
    "alpha_complex4=get_alpha_complex(0.16, pts, tri.simplices)\n",
    "alpha_complex5=get_alpha_complex(0.18, pts, tri.simplices)"
   ]
  },
  {
   "cell_type": "code",
   "execution_count": 29,
   "metadata": {
    "collapsed": false
   },
   "outputs": [
    {
     "data": {
      "text/plain": [
       "['__class__',\n",
       " '__delattr__',\n",
       " '__dir__',\n",
       " '__doc__',\n",
       " '__eq__',\n",
       " '__format__',\n",
       " '__ge__',\n",
       " '__getattribute__',\n",
       " '__gt__',\n",
       " '__hash__',\n",
       " '__init__',\n",
       " '__iter__',\n",
       " '__le__',\n",
       " '__lt__',\n",
       " '__ne__',\n",
       " '__new__',\n",
       " '__next__',\n",
       " '__reduce__',\n",
       " '__reduce_ex__',\n",
       " '__repr__',\n",
       " '__setattr__',\n",
       " '__sizeof__',\n",
       " '__str__',\n",
       " '__subclasshook__']"
      ]
     },
     "execution_count": 29,
     "metadata": {},
     "output_type": "execute_result"
    }
   ],
   "source": [
    "dir(alpha_complex1)"
   ]
  },
  {
   "cell_type": "code",
   "execution_count": 21,
   "metadata": {
    "collapsed": false
   },
   "outputs": [],
   "source": [
    "X,Y=Plotly_data(pts, tri.simplices)# get data for Delaunay triangulation\n",
    "figure.append_trace(make_trace(X, Y), 1, 1) \n",
    "\n",
    "X,Y=Plotly_data(pts, alpha_complex1)# data for alpha complex\n",
    "figure.append_trace(make_trace(X, Y), 1, 2) \n",
    "\n",
    "X,Y=Plotly_data(pts, alpha_complex2)# data for alpha complex\n",
    "figure.append_trace(make_trace(X, Y), 2, 1) \n",
    "\n",
    "X,Y=Plotly_data(pts, alpha_complex3)# data for alpha complex\n",
    "figure.append_trace(make_trace(X, Y), 2, 2) \n",
    "\n",
    "X,Y=Plotly_data(pts, alpha_complex4)# data for alpha complex\n",
    "figure.append_trace(make_trace(X, Y), 3, 1) \n",
    "\n",
    "X,Y=Plotly_data(pts, alpha_complex5)# data for alpha complex\n",
    "figure.append_trace(make_trace(X, Y), 3, 2) "
   ]
  },
  {
   "cell_type": "code",
   "execution_count": 26,
   "metadata": {
    "collapsed": false
   },
   "outputs": [],
   "source": [
    "for s in alpha_complex1: #fill in the triangles of the alpha complex\n",
    "    A=pts[s[0]]\n",
    "    B=pts[s[1]]\n",
    "    C=pts[s[2]]\n",
    "    figure['layout']['shapes'].append(dict(path='M '+str(A[0])+',' +str(A[1])+' '+'L '+\\\n",
    "                                                 str(B[0])+', '+str(B[1])+ ' '+'L '+\\\n",
    "                                                 str(C[0])+', '+str(C[1])+' Z',\n",
    "                                           fillcolor=colors[2],\n",
    "                                           line=Line(color=colors[1], width=1.25),\n",
    "                                           xref='x2',\n",
    "                                           yref='y2'\n",
    "                                           )\n",
    "                                     )"
   ]
  },
  {
   "cell_type": "code",
   "execution_count": 27,
   "metadata": {
    "collapsed": false
   },
   "outputs": [
    {
     "data": {
      "text/html": [
       "<iframe id=\"igraph\" scrolling=\"no\" style=\"border:none;\" seamless=\"seamless\" src=\"https://plot.ly/~SatoyukiTsukano/2.embed\" height=\"1000px\" width=\"800px\"></iframe>"
      ],
      "text/plain": [
       "<plotly.tools.PlotlyDisplay object>"
      ]
     },
     "execution_count": 27,
     "metadata": {},
     "output_type": "execute_result"
    }
   ],
   "source": [
    "py.iplot(figure, filename='2D-AlphaS-ex', width=850)"
   ]
  },
  {
   "cell_type": "code",
   "execution_count": null,
   "metadata": {
    "collapsed": false
   },
   "outputs": [],
   "source": [
    "from IPython.core.display import HTML\n",
    "def  css_styling():\n",
    "    styles = open(\"./custom.css\", \"r\").read()\n",
    "    return HTML(styles)\n",
    "css_styling()"
   ]
  },
  {
   "cell_type": "code",
   "execution_count": null,
   "metadata": {
    "collapsed": true
   },
   "outputs": [],
   "source": []
  }
 ],
 "metadata": {
  "anaconda-cloud": {},
  "kernelspec": {
   "display_name": "Python [Root]",
   "language": "python",
   "name": "Python [Root]"
  },
  "language_info": {
   "codemirror_mode": {
    "name": "ipython",
    "version": 3
   },
   "file_extension": ".py",
   "mimetype": "text/x-python",
   "name": "python",
   "nbconvert_exporter": "python",
   "pygments_lexer": "ipython3",
   "version": "3.5.2"
  }
 },
 "nbformat": 4,
 "nbformat_minor": 0
}
